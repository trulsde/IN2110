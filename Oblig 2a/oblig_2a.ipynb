{
 "cells": [
  {
   "cell_type": "markdown",
   "metadata": {},
   "source": [
    "# IN2110 Oblig 2a\n",
    "## Oppgave 2 og 3\n",
    "Etter at du har trent modellen fra kommandolinja, gjøres resten av programmeringen, rapporteringen og besvarelse ellers i dette dokumentet. Lag celler for markdown og kode etter behov."
   ]
  },
  {
   "cell_type": "code",
   "execution_count": 2,
   "metadata": {},
   "outputs": [
    {
     "name": "stdout",
     "output_type": "stream",
     "text": [
      "spaCy version: 3.7.2\n"
     ]
    }
   ],
   "source": [
    "import spacy\n",
    "from helpers.conllu import ConlluDoc\n",
    "print(\"spaCy version:\",spacy.__version__) "
   ]
  },
  {
   "cell_type": "code",
   "execution_count": 133,
   "metadata": {},
   "outputs": [
    {
     "name": "stdout",
     "output_type": "stream",
     "text": [
      "I rene ord. \n",
      "False\n",
      "True\n"
     ]
    }
   ],
   "source": [
    "nb = spacy.load(\"output/model-best\")\n",
    "\n",
    "dev = ConlluDoc.from_file(\"no_bokmaal-ud-dev.conllu\")\n",
    "dev_spacy = dev.to_spacy(nb)\n",
    "dev_spacy_unlabelled = dev.to_spacy(nb, keep_labels=False)\n",
    "\n",
    "# Kjører print-test for å kontrollere at setninger parsert av modellen vår er merka med dependensrelasjoner\n",
    "doc = dev_spacy_unlabelled[13]\n",
    "print(doc)\n",
    "print(doc.has_annotation(\"DEP\"))\n",
    "doc_parsed = nb(doc)\n",
    "print(doc_parsed.has_annotation(\"DEP\"))"
   ]
  },
  {
   "cell_type": "code",
   "execution_count": 134,
   "metadata": {},
   "outputs": [],
   "source": [
    "def parse(docs):\n",
    "\n",
    "    # trenger jeg å utdype denne koden nor særlig?\n",
    "    if not isinstance(docs, list):\n",
    "        raise TypeError(\"Input argument 'docs' must be of instance 'list'\")\n",
    "\n",
    "    docs_parsed = [nb(doc) for doc in docs]\n",
    "\n",
    "    return docs_parsed"
   ]
  },
  {
   "cell_type": "code",
   "execution_count": 129,
   "metadata": {},
   "outputs": [],
   "source": [
    "def attachment_score(true, pred):\n",
    "    \"\"\"Tar inn to lister av doc der liste nr 2 har predikert depedens. Finner andel korrekte head (UAS), og korrekte head+dependensrelasjoner (LAS)\n",
    "    Merk at depedensrelasjonene som SpaCy estimerer har \"ROOT\" med store bokstaver, mens våre data har \"root\" med små.\n",
    "    Dette er den samme relasjonen, og skal teller som korrekt estimert \"\"\"\n",
    "    #TODO\n",
    "\n",
    "    for i in [true, pred]:\n",
    "        if not isinstance(i, list):\n",
    "            raise TypeError(f\"Inputs 'true' and 'pred' must be of type list. Got type {type(i)}\")\n",
    "    if not len(true) == len(pred):\n",
    "        raise LengthException(f\"len(true) != len(pred). len(true): {len(true)}, len(pred): {len(pred)}\")\n",
    "\n",
    "    correct_head_count = 0\n",
    "    correct_deprel_count = 0\n",
    "    word_count = 0\n",
    "\n",
    "    for i in range(len(true)):    \n",
    "        for doc_true, doc_pred in zip(true[i], pred[i]):\n",
    "            word_count += 1\n",
    "            # denne if-testen sjekker om indeksen til det sanne hodet er den samme som indeksen til det predikerte hodet\n",
    "            if doc_true.head.i == doc_pred.head.i:\n",
    "                correct_head_count += 1\n",
    "                # ny if-test sjekker om den sanne dependensrelasjonen tilsvarer den predikerte med små bokstaver (siden vår modell predikerer 'ROOT'\n",
    "                # i motsetning til 'root'). Det er denne if-testen som utgjør grunnlaget for LAS-skåren.\n",
    "                if doc_true.dep_ == doc_pred.dep_.lower():\n",
    "                    correct_deprel_count += 1\n",
    "\n",
    "    uas = correct_head_count / word_count\n",
    "    las = correct_deprel_count / word_count\n",
    "\n",
    "    # Prosedyren returnerer en ordbok som inneholder all nyttig informasjon om parseringa.\n",
    "    return {\"wordcount\": word_count, \"correct head count\": correct_head_count, \"uas\": uas, \"correct deprel count\": correct_deprel_count, \"las\": las}"
   ]
  },
  {
   "cell_type": "code",
   "execution_count": 138,
   "metadata": {},
   "outputs": [
    {
     "data": {
      "text/html": [
       "<div>\n",
       "<style scoped>\n",
       "    .dataframe tbody tr th:only-of-type {\n",
       "        vertical-align: middle;\n",
       "    }\n",
       "\n",
       "    .dataframe tbody tr th {\n",
       "        vertical-align: top;\n",
       "    }\n",
       "\n",
       "    .dataframe thead th {\n",
       "        text-align: right;\n",
       "    }\n",
       "</style>\n",
       "<table border=\"1\" class=\"dataframe\">\n",
       "  <thead>\n",
       "    <tr style=\"text-align: right;\">\n",
       "      <th></th>\n",
       "      <th>lang</th>\n",
       "      <th>wordcount</th>\n",
       "      <th>correct head count</th>\n",
       "      <th>uas</th>\n",
       "      <th>correct deprel count</th>\n",
       "      <th>las</th>\n",
       "    </tr>\n",
       "  </thead>\n",
       "  <tbody>\n",
       "    <tr>\n",
       "      <th>0</th>\n",
       "      <td>bokmaal</td>\n",
       "      <td>36369</td>\n",
       "      <td>31966</td>\n",
       "      <td>0.878935</td>\n",
       "      <td>30819</td>\n",
       "      <td>0.847398</td>\n",
       "    </tr>\n",
       "    <tr>\n",
       "      <th>1</th>\n",
       "      <td>nynorsk</td>\n",
       "      <td>31250</td>\n",
       "      <td>21047</td>\n",
       "      <td>0.673504</td>\n",
       "      <td>18290</td>\n",
       "      <td>0.585280</td>\n",
       "    </tr>\n",
       "    <tr>\n",
       "      <th>2</th>\n",
       "      <td>nynorsklia</td>\n",
       "      <td>10163</td>\n",
       "      <td>4547</td>\n",
       "      <td>0.447407</td>\n",
       "      <td>3536</td>\n",
       "      <td>0.347929</td>\n",
       "    </tr>\n",
       "  </tbody>\n",
       "</table>\n",
       "</div>"
      ],
      "text/plain": [
       "         lang  wordcount  correct head count       uas  correct deprel count  \\\n",
       "0     bokmaal      36369               31966  0.878935                 30819   \n",
       "1     nynorsk      31250               21047  0.673504                 18290   \n",
       "2  nynorsklia      10163                4547  0.447407                  3536   \n",
       "\n",
       "        las  \n",
       "0  0.847398  \n",
       "1  0.585280  \n",
       "2  0.347929  "
      ]
     },
     "execution_count": 138,
     "metadata": {},
     "output_type": "execute_result"
    }
   ],
   "source": [
    "import re\n",
    "\n",
    "\"\"\"lager en prosedyre som kjører en trebank gjennom parseren fra tidligere, lager en dataframe av ordboka denne har som output, og leger til en\n",
    "egen kolonne i denne med navnet på språket som blei parsert. Språknavnet hentes ut fra filnavnet ved hjelp av regex. Deretter lager jeg en samla\n",
    "dataframe med resultatene fra bokmål, nynorsk og nynorsk talespråk.\"\"\"\n",
    "def read_conllu(file):\n",
    "    dev = ConlluDoc.from_file(file)\n",
    "    dev, dev_unlabelled = dev.to_spacy(nb), dev.to_spacy(nb, keep_labels=False)\n",
    "    length = dev\n",
    "    \n",
    "    true = list(dev)\n",
    "    pred = parse(dev_unlabelled)\n",
    "\n",
    "    df = pd.DataFrame(attachment_score(true, pred), index=[0])\n",
    "    spraknavn = re.findall(r'_(\\w+)-', file)\n",
    "    df.insert(0, \"language\", spraknavn)\n",
    "      \n",
    "    return df\n",
    "\n",
    "df = pd.concat([read_conllu(\"no_bokmaal-ud-dev.conllu\"), read_conllu(\"no_nynorsk-ud-dev.conllu\"), read_conllu(\"no_nynorsklia-ud-dev.conllu\")], ignore_index=True)\n",
    "df"
   ]
  },
  {
   "cell_type": "markdown",
   "metadata": {},
   "source": [
    "### Kommentarer til resultatene ###\n",
    "\n",
    "Som forventa er UAS-skåren høyere enn LAS-skåren. Dette er fordi UAS ser bort ifra dependensrelasjon og kun vurderer om riktig hode er blitt predikert. LAS krever på sin side riktig deåpendensrelasjon i tillegg, for å karakterisere prediskjonen som korrekt. Det viser seg videre at modellen vår presterer betydelig bedre på bokmål enn på skriftlig nynorsk og nynorsk muntlig tale. Det forteller oss at bokmål og nynorsk er såpass forskjellige at en bokmålstrent parserer ikke egnes til å parsere nynorsk - aller minst nynorsk talespråk, som her får dårligst skår av alle."
   ]
  }
 ],
 "metadata": {
  "interpreter": {
   "hash": "26890c58fd4f0c09a120ad97e482824172cf42aed555772326092c2601d2cef8"
  },
  "kernelspec": {
   "display_name": "Python 3 (ipykernel)",
   "language": "python",
   "name": "python3"
  },
  "language_info": {
   "codemirror_mode": {
    "name": "ipython",
    "version": 3
   },
   "file_extension": ".py",
   "mimetype": "text/x-python",
   "name": "python",
   "nbconvert_exporter": "python",
   "pygments_lexer": "ipython3",
   "version": "3.9.18"
  }
 },
 "nbformat": 4,
 "nbformat_minor": 4
}
