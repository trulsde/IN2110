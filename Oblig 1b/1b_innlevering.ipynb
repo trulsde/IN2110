{
 "cells": [
  {
   "attachments": {},
   "cell_type": "markdown",
   "metadata": {},
   "source": [
    "# IN2110 obligatorisk innlevering 1b\n",
    "\n",
    "Oppgaven har to deler, logistisk regresjon for å klassifisere språk basert på IPA lydskrift, og Named Entity Recognition med HMM. Det er en god idé å lese gjennom hele oppgavesettet før du setter i gang. \n",
    "\n",
    "Dersom du har spørsmål så kan du:\n",
    "\n",
    "* gå på gruppetime,\n",
    "* spørre på Discourse\n",
    "* eller sende epost til in2110-hjelp@ifi.uio.no dersom alternativene over av en eller annen grunn ikke passer for spørsmålet ditt.\n",
    "\n",
    "### Oppsett\n",
    "Når du har klonet dette github-repoet som denne notebooken ligger i, har du tilgang til datene og hjelpefilene som ligger i denne mappa. Hvis du ønsker å kopiere denne mappa, \"1b\", over til et annet sted, så skulle det gå bra. Bare pass på at du følger med på om det er oppdateringer her i repoet som gir ut obligen. Når du har aktivert in2110-miljøet med conda, så har du tilgang til pakkene som trengs for å kjøre denne notebooken. Vi har forberedt en notebook med all prekoden, der du også kan fylle ut din kode og kjøre prosessene.\n",
    "\n",
    "### Innlevering\n",
    "\n",
    "Innleveringen skal helst bestå av denne Jupyter notebook fylt ut med både kode og tilhørende forklaringer. Vi understreker at innlevering av koden alene __ikke er nok__ for å bestå oppgaven -- vi forventer at notebooken også skal inneholde _beskrivelser_ (på norsk eller engelsk) av hva dere har gjort og _begrunnelser_ for valgene dere har tatt underveis. Bruk helst hele setninger, og matematiske formler om nødvendig. Evalueringstallene bør presenteres i tabeller. Det å  forklare med egne ord (samt begreper vi har gått gjennom på forelesningene) hva dere har implementert og reflektere over hvorvidt løsningen dere har lagt  besvarer oppgaven er en viktig del av læringsprosessen -- ta det på alvor! "
   ]
  },
  {
   "attachments": {},
   "cell_type": "markdown",
   "metadata": {},
   "source": [
    "# Del 1: Logistisk regresjon\n",
    "\n",
    "\n",
    "I den første delen av innleveringen skal vi bruke logistisk regresjon til å utvikle en enkel _språkidentifikator_, dvs. et lite system som skal predikere hvilket språk et ord hører til. Mer spesifikk skal systemet ta ordets _fonetiske transkripsjon_ som input og returnere _navnet på språket_ som ordet mest sannsynlig tilhører.  Systemet skal for eksempel kunne ta transkripsjonen [bʊndɛsvɛɾfaszʊŋ] som input og returnere ``tysk''. \n",
    "\n",
    "## Data\n",
    "\n",
    "For å trene modellen (dvs. finne ut verdier for vektene og skjæringspunktene basert på data) skal vi ta i bruk eksisterende lister over ord med deres fonetiske transkripsjon i såkalt _IPA_-format (IPA står for _[International Phonetic Alphabet](https://upload.wikimedia.org/wikipedia/commons/8/8e/IPA_chart_2018.pdf)_).  Dere trenger ikke å kunne lese eller skrive slike fonetiske transkripsjoner i denne oppgaven. Det viktigste er å forstå at disse transkripsjonene beskriver språklydene som utgjør ordet, samt andre egenskaper slik som lengde, tone, trykk og intonasjon. Fonetiske transkripsjoner forteller oss hvordan et ord bør uttales."
   ]
  },
  {
   "cell_type": "code",
   "execution_count": 61,
   "metadata": {},
   "outputs": [
    {
     "name": "stdout",
     "output_type": "stream",
     "text": [
      "Reading cached file from ./langid_data.csv\n",
      "Treningsett: 689238 eksempler, testsett: 76583 eksempler\n"
     ]
    }
   ],
   "source": [
    "import numpy as np\n",
    "import pandas as pd\n",
    "import oblig1b_utils\n",
    "train_data, test_data = oblig1b_utils.extract_wordlist()"
   ]
  },
  {
   "attachments": {},
   "cell_type": "markdown",
   "metadata": {},
   "source": [
    "Data vi skal bruke er lagt i to `DataFrame` tabeller: et treningsett med 90 % av ordene og et testsett med de resterende 10 %. Ordene fra de forskjellige språkene er blandet i disse to tabellene. `DataFrame` er en datastruktur fra Python-biblioteket [`pandas`](https://pandas.pydata.org) og representerer en slags tabell med kolonner og rader. Biblioteket `pandas` gjør det lett å visualisere og manipulere slike tabeller:"
   ]
  },
  {
   "cell_type": "code",
   "execution_count": 62,
   "metadata": {},
   "outputs": [
    {
     "name": "stdout",
     "output_type": "stream",
     "text": [
      "Statistikk over språkene i treningsett:\n",
      "språk\n",
      "spansk          45116\n",
      "tysk            45108\n",
      "finsk           45093\n",
      "rumensk         45051\n",
      "vietnamesisk    45046\n",
      "engelsk         45032\n",
      "islandsk        45007\n",
      "koreansk        45002\n",
      "fransk          44995\n",
      "japansk         44980\n",
      "arabisk         44945\n",
      "kantonesisk     44850\n",
      "swahilisk       43287\n",
      "mandarin        40291\n",
      "malayisk        25372\n",
      "svensk          19089\n",
      "norsk            9141\n",
      "farsi            7226\n",
      "khmer            2940\n",
      "patwa            1667\n",
      "Name: count, dtype: int64\n",
      "Første 30 ord:\n",
      "                        ord                    IPA         språk\n",
      "431045                   권세              kwʌ̹nsʰe̞      koreansk\n",
      "574424             ahondase                aondase        spansk\n",
      "613302                  사적비         sʰa̠d͡ʑʌ̹k̚p͈i      koreansk\n",
      "137746                混じり合う              madʑiɾiaɯ       japansk\n",
      "260793              menguji                məŋudʒi      malayisk\n",
      "210089           liquéfiait                likefjɛ        fransk\n",
      "667511            măruntaie              məruntaje       rumensk\n",
      "185660      menneenvuotinen      ˈmenneenˌvuotinen         finsk\n",
      "203697           thanh quản          tʰan˧˥ waŋ˧˩˨  vietnamesisk\n",
      "328173                ស្បែក                  sbaek         khmer\n",
      "642692              cejamos                θexamos        spansk\n",
      "70140               beligat                bəligat      malayisk\n",
      "69067              メッセージエリア          mesːeːdʑieɾia       japansk\n",
      "234589           voivuksiin            ˈvoivuksiin         finsk\n",
      "18102                rôdiez                  ʁodje        fransk\n",
      "140050        yhtämittainen        ˈyhtæmitˌtɑinen         finsk\n",
      "9696              partifärg           ²paʈˈiːfärːj        svensk\n",
      "681517          enhebraréis            eneβɾaˈɾeis        spansk\n",
      "10745             hellarnir              hɛtlatnɪr      islandsk\n",
      "385008  ruokinta-automaatti  ˈruokinˌtɑɑutoˌmɑɑtti         finsk\n",
      "588282                   𠹳粥            ki:t˨ tsʊk˥   kantonesisk\n",
      "214069          persemadian            pərsəmadian      malayisk\n",
      "315024                أحطاب               ʔaħtˤaːb       arabisk\n",
      "72119               ولنتشدق         walinataʃaddaq       arabisk\n",
      "540430            đáng ghét            daŋ˩˧ ɣɛk˦˥  vietnamesisk\n",
      "600262              rajuste                 ʁaʒyst        fransk\n",
      "112350          paikkatasku          ˈpɑikkɑˌtɑsku         finsk\n",
      "756547                   削尖         ɕjɑʊ˥˥ tɕjɛn˥˥      mandarin\n",
      "39266         superfluitate          superfluitate       rumensk\n",
      "135714              سيستكدد            seɪastakdid       arabisk\n",
      "118435             كالأساقف          kaaːlʔasaːqif       arabisk\n",
      "486259          clasicizant           klasitʃizant       rumensk\n",
      "196238             Feigling              ˈfaɪ̯klɪŋ          tysk\n",
      "447918         erntetest ab         ˌɛʁntətəst ˈap          tysk\n",
      "569304            chahutons                 ʃaytɔ̃        fransk\n",
      "382701                  士碌架        si:˨ lʊk˥ ka:˧˥   kantonesisk\n",
      "634428               فكتوأم             fakataʊʔam       arabisk\n",
      "637932                    䒦                  fan˥˩      mandarin\n",
      "637825               بمستعص             bimustaʕsˤ       arabisk\n",
      "486534            aluciabas              aluθjaβas        spansk\n",
      "412382     puhemiesneuvosto    ˈpuheˌmiesneuˌvosto         finsk\n",
      "272616                foran                 ˈfɔɾɑn         norsk\n",
      "195802                    卡                  kʰa:˥   kantonesisk\n",
      "22607                    成為            sɪŋ˨˩ wɐi˨˩   kantonesisk\n",
      "585386              viðrini                vɪðrɪnɪ      islandsk\n",
      "360295            membawahi              məmbawahi      malayisk\n",
      "3517                     衛兵              wɐi˨ pɪŋ˥   kantonesisk\n",
      "299414              cazulcă                kazulkə       rumensk\n",
      "517992             vijaluba               viʄaluɓa     swahilisk\n",
      "112964           Impfpasses           ˈɪmp͡fˌpasəs          tysk\n",
      "685445                   民衆            mɐn˨˩ tsʊŋ˧   kantonesisk\n",
      "121080               lieska                ˈlieskɑ         finsk\n",
      "72002                  néon                   neon      malayisk\n",
      "603854                 euro                   euro       rumensk\n",
      "552993                    谻                 tɕɥœ˧˥      mandarin\n",
      "614289                 svar                  svaːr      islandsk\n",
      "400869             strjálli              strjautlɪ      islandsk\n",
      "170204              vinmæli               vɪnmajlɪ      islandsk\n",
      "224639                    斨               tɕʰjɑŋ˥˥      mandarin\n",
      "488903               وانصرف            wainsˤarafa       arabisk\n"
     ]
    }
   ],
   "source": [
    "print(\"Statistikk over språkene i treningsett:\")\n",
    "print(train_data.språk.value_counts())\n",
    "print(\"Første 30 ord:\")\n",
    "print(train_data[:60])"
   ]
  },
  {
   "attachments": {},
   "cell_type": "markdown",
   "metadata": {},
   "source": [
    "## Klassen\n",
    "\n",
    "Her er skjelettet for `LanguageIdentifier`-klassen  som skal implementeres:"
   ]
  },
  {
   "cell_type": "code",
   "execution_count": 63,
   "metadata": {},
   "outputs": [],
   "source": [
    "import sklearn.linear_model\n",
    "class LanguageIdentifier:\n",
    "    \"\"\"Logistisk regresjonsmodell som tar IPA transkripsjoner av ord som input, \n",
    "    og predikerer hvilke språk disse ordene hører til.\"\"\"\n",
    "    \n",
    "    def __init__(self):\n",
    "        \"\"\"Initialiser modellen\"\"\"      \n",
    "        # selve regresjonsmodellen (som brukes all CPU-er på maskinen for trening)\n",
    "        self._model = sklearn.linear_model.LogisticRegression(solver=\"liblinear\", multi_class='ovr')\n",
    "\n",
    "        \"\"\"Jeg har valgt å lagre informasjon om unike symboler, utfallet av siste prediksjon og konverteringsordboka språknavn -> int \n",
    "        som egne instansvariabler\"\"\"\n",
    "        self._symbols = []\n",
    "        self._predictions = []\n",
    "        self._class_label_dict = {}\n",
    "    \n",
    "    def train(self, transcriptions, languages):\n",
    "        \"\"\"Gitt en rekke med IPA transkripsjoner og en rekke med språknavn, tren\n",
    "        den logistiske regresjonsmodellen. De to rekkene må ha samme lendge\"\"\"\n",
    "        \n",
    "        raise NotImplementedError()\n",
    "    \n",
    "    def predict(self, transcriptions):\n",
    "        \"\"\"Gitt en rekke med IPA transkripsjoner, finn ut det mest sansynnlige språket\n",
    "        for hver transkripsjon. Rekken som returneres må ha samme lengde som rekken i input\"\"\"\n",
    "\n",
    "        self.model.predict(transcriptions)\n",
    "        \n",
    "        raise NotImplementedError()\n",
    "        \n",
    "    def _extract_unique_symbols(self, transcriptions, min_nb_occurrences=10):\n",
    "        \"\"\"Gitt en rekke med IPA fonetiske transkripsjoner, ektraher en liste med alle IPA \n",
    "        symboler som finnes i transkripsjonene og forekommer minst min_nb_occurrences.\"\"\"\n",
    "        raise NotImplementedError()\n",
    "        \n",
    "    def _extract_feats(self, transcriptions):\n",
    "        \"\"\"Gitt en rekke med IPA transkripsjoner, ekstraher en matrise av størrelse |T|x|F|,\n",
    "        hvor |T| er antall transkripsjoner, og |F| er antall features brukt i modellen.\"\"\"\n",
    "        \n",
    "        raise NotImplementedError()\n",
    "\n",
    "    def evaluate(self, transcriptions, languages):  \n",
    "        \"\"\"Gitt en rekke med IPA transkripsjoner og en rekke med språknavn, evaluer hvor godt\n",
    "        modellen fungerer ved å beregne:\n",
    "        1) accuracy\n",
    "        2) precision, recall og F1 for hvert språk\n",
    "        3) micro- og macro-averaged F1.\n",
    "        \"\"\"\n",
    "        \n",
    "        # See API fra sklearn.metrics for å finne ut hvordan dette kan gjøres! \n",
    "        raise NotImplementedError()"
   ]
  },
  {
   "attachments": {},
   "cell_type": "markdown",
   "metadata": {},
   "source": [
    "## Trening \n",
    "Vi skal benytte oss av en logistisk regresjonsmodell, mer spesifikk klassen [LogisticRegression](https://scikit-learn.org/stable/modules/generated/sklearn.linear_model.LogisticRegression.html) fra `scikit-learn`. Men for å kunne bruke modellen må vi naturligvis først estimere parametrene basert på treningsdata. \n",
    " Hva slags trekk (_features_) skal vi bruke i modellen vår? I denne oppgaven skal vi gjøre det enkelt for oss selv, og kun ta i betrakning forekomst av bestemte IPA-symboler som identifiserer ordlyder i den fonetiske transkripsjonen av ordet. _NB_: hvis du kan litt fonetikk fra før vil dere kanskje stusse på denne overforenklingen, da IPA-symboler brukes til å kode en god del andre egenskaper knyttet til talelyder slik som lengde, tone, trykk og intonasjon. Men i denne oppgaven skal vi gå den enkle veien og bruke alle symbolene i disse transkripsjonene uten å skille mellom ulike typer.\n",
    "\n",
    "Trekkene vil ha binære verdier (1 hvis transkripsjonen inneholder symbolet og 0 ellers) og kan sees som en slags ``bag-of-sounds'', siden de vil fortelle oss hvilke ordlyder som forekommer i ordet, men ikke i hvilken rekkefølge.\n",
    "\n",
    "__Opgave 1.1:__ Det første skrittet er å lage en liste over alle IPA-symboler som finnes i treningsettet. Metoden `_extract_unique_symbols` skal ta de fonetiske transkripsjonene fra treningssettet som input, og returnere en liste med alle fonetiske symboler (altså tegn) som finnes i disse transkripsjonene og forekommer minst 10 ganger. Implementer denne metoden. Antall symboler kan variere litt avhengig av den tilfeldige inndelingen mellom treningsettet og testsettet, men bør ligge på rundt 155 unike symboler."
   ]
  },
  {
   "cell_type": "code",
   "execution_count": 64,
   "metadata": {},
   "outputs": [],
   "source": [
    "def _extract_unique_symbols(self, transcriptions, min_nb_occurrences=10):\n",
    "    \"\"\"Gitt en rekke med IPA fonetiske transkripsjoner, ektraher en liste med alle IPA \n",
    "    symboler som finnes i transkripsjonene og forekommer minst min_nb_occurrences.\"\"\"\n",
    "\n",
    "    min_occurrences = min_nb_occurrences\n",
    "    occurrence_table = {}\n",
    "    symbol_list = []\n",
    "\n",
    "    for transcription in transcriptions:\n",
    "        for character in transcription:\n",
    "            if character in occurrence_table:\n",
    "                occurrence_table[character] += 1\n",
    "            else:\n",
    "                occurrence_table[character] = 1\n",
    "\n",
    "    for key in occurrence_table:\n",
    "        if occurrence_table[key] >= 10:\n",
    "            symbol_list.append(key)\n",
    "\n",
    "    self._symbols = symbol_list\n",
    "\n",
    "# her kobler vi metoden vi har implementert til klassen\n",
    "LanguageIdentifier._extract_unique_symbols = _extract_unique_symbols"
   ]
  },
  {
   "attachments": {},
   "cell_type": "markdown",
   "metadata": {},
   "source": [
    "\n",
    "__Oppgave 1.2__: Deretter må vi implementere metoden `_extract_feats` som tar en liste fonetiske transkripsjoner og returnerer en matrise $X$ hvor hver rad tilsvarer en transkripsjon og hver kolonne representerer et bestemt trekk. La oss si vi har $m$ unike fonetiske symboler (ekstrahert med metoden ovenfor), og får en liste med $n$ fonetiske transkripsjoner $T = \\{t_i \\text{ hvor } 0 < i < n\\}$. Metoden `_extract_feats(transcriptions)` må returnere en matrise $X$ av dimensjon $(n,m)$, hvor hver matrisecelle $X_{ij}$ er definert slik: \n",
    "\n",
    "$$\n",
    "X_{ij}  =  \\begin{cases} 1 \\text{  hvis symbolet } j \\text{ forekommer i transkripsjonen } t_i \\\\\n",
    "0 \\text{  ellers} \\end{cases} \n",
    "$$\n",
    "\n",
    "Tips: den enkleste fremgangsmåten kan være å starte med å lage en tom matrise slik som `X = np.zeros(n,m)` og deretter endre cellene hvor `X[i,j]` skal ha 1 som verdi i stedet for 0. "
   ]
  },
  {
   "cell_type": "code",
   "execution_count": 65,
   "metadata": {},
   "outputs": [],
   "source": [
    "def _extract_feats(self, transcriptions):\n",
    "    \"\"\"Gitt en rekke med IPA transkripsjoner, ekstraher en matrise av størrelse |T|x|F|,\n",
    "    hvor |T| er antall transkripsjoner, og |F| er antall features brukt i modellen.\"\"\"\n",
    "\n",
    "    m = len(self._symbols)\n",
    "    n = len(transcriptions)\n",
    "    \n",
    "    X = np.zeros((n, m))\n",
    "\n",
    "    for i in range(len(transcriptions)):\n",
    "        for j in range(len(self._symbols)):\n",
    "            if self._symbols[j] in transcriptions[i]:\n",
    "                X[i][j] = 1\n",
    "\n",
    "    return X\n",
    "\n",
    "LanguageIdentifier._extract_feats = _extract_feats"
   ]
  },
  {
   "attachments": {},
   "cell_type": "markdown",
   "metadata": {},
   "source": [
    "__Oppgave 1.3__: Vi er nå klare til for å implementere funksjonen `train`. Metoden tar to lister som input, en liste fonetiske transkripsjoner og en liste med språknavn (de to listene må ha samme lengde). Metoden skal trene den logistiske regresjonsmodellen `self.model` ved å kalle `fit(X, y)`, hvor `X` er en matrise med alle trekk ekstrahert med metoden `_extract_feats`, og `y` er outputklassene. \n",
    "\n",
    "Merk at `scikit-learn` krever at outputklassene `y` må være en liste med heltall (og ikke strenger). Det betyr at dere må lage en mapping mellom språknavn og heltall (f.eks. ved å si at \"norsk\" er 0, \"arabisk\" er 1, \"finsk\" er 2, osv.). Når dere har både matrisen `X` og output `y` er det bare å kalle metoden `fit(X, y)` for å trene modellen. Trening kan ta noen minutter avhengig av maskinen deres."
   ]
  },
  {
   "cell_type": "code",
   "execution_count": 66,
   "metadata": {},
   "outputs": [],
   "source": [
    "def train(self, transcriptions, languages):\n",
    "    \"\"\"Gitt en rekke med IPA transkripsjoner og en rekke med språknavn, tren\n",
    "    den logistisk regresjonsmodellen. De to rekkene må ha samme lendgen\"\"\"\n",
    "\n",
    "    self._extract_unique_symbols(transcriptions, 10)\n",
    "    X_train = self._extract_feats(transcriptions)\n",
    "    \n",
    "    if len(transcriptions) != len(languages):\n",
    "        raise IndexError(\"Listene 'transcriptions' og 'languages' må være av samme lengde\")\n",
    "    \n",
    "    self._class_label_dict = {}\n",
    "    \n",
    "    i = 0                    \n",
    "    for language in languages:\n",
    "        if language not in self._class_label_dict:\n",
    "            self._class_label_dict[language] = i\n",
    "            i += 1\n",
    "    print(\"Språkordbok ferdig\")\n",
    "\n",
    "    int_class_labels = [self._class_label_dict[language] for language in languages]\n",
    "    \n",
    "    print(\"Talletiketter ferdig\")\n",
    "            \n",
    "    self._model.fit(X_train, int_class_labels)\n",
    "\n",
    "    print(\"Ferdig\")\n",
    "\n",
    "LanguageIdentifier.train = train"
   ]
  },
  {
   "attachments": {},
   "cell_type": "markdown",
   "metadata": {},
   "source": [
    "Vi er nå klare til å trene modellen (kan ta noen minutter):"
   ]
  },
  {
   "cell_type": "code",
   "execution_count": 67,
   "metadata": {},
   "outputs": [
    {
     "name": "stdout",
     "output_type": "stream",
     "text": [
      "Språkordbok ferdig\n",
      "Talletiketter ferdig\n",
      "Ferdig\n"
     ]
    }
   ],
   "source": [
    "model = LanguageIdentifier()\n",
    "transcriptions = train_data.IPA.values\n",
    "languages = train_data.språk.values\n",
    "model.train(transcriptions, languages)"
   ]
  },
  {
   "attachments": {},
   "cell_type": "markdown",
   "metadata": {},
   "source": [
    "\n",
    "## Prediksjon og evaluering\n",
    "\n",
    "Når modellen er trent kan vi anvende den på nye fonetiske transkripsjoner. \n",
    "\n",
    "__Oppgave 1.4__: Implementer metoden `predict`. Metoden tar som input en liste fonetiske transkripsjoner og predikerer det mest sannsynlige språket for hver transkripsjon. Listen som returneres må ha samme lengde som inputlisten. Husk at `scikit-learn` opererer med outputklasser representert som heltall, så dere må forvandle disse tallene tilbake til språknavnene.  "
   ]
  },
  {
   "cell_type": "code",
   "execution_count": 68,
   "metadata": {},
   "outputs": [],
   "source": [
    "def predict(self, transcriptions):\n",
    "    \"\"\"Gitt en rekke med IPA transkripsjoner, finn ut det mest sansynnlige språket\n",
    "    for hver transkripsjon. Rekken som returneres må ha samme lengde som rekken i input\"\"\"\n",
    "\n",
    "    X_test = self._extract_feats(transcriptions)\n",
    "    \n",
    "    int_predictions = self._model.predict(X_test)\n",
    "    predictions = []\n",
    "\n",
    "    for i in int_predictions:\n",
    "        for language in self._class_label_dict:\n",
    "            if i == self._class_label_dict[language]:\n",
    "                predictions.append(language)\n",
    "\n",
    "    return predictions\n",
    "\n",
    "LanguageIdentifier.predict = predict"
   ]
  },
  {
   "cell_type": "markdown",
   "metadata": {},
   "source": [
    "Deretter kan dere se hvordan modellen fungerer i praksis:"
   ]
  },
  {
   "cell_type": "code",
   "execution_count": 69,
   "metadata": {},
   "outputs": [
    {
     "name": "stdout",
     "output_type": "stream",
     "text": [
      "Mest sansynnlige språk for ordene: ['spansk', 'rumensk', 'islandsk', 'finsk']\n"
     ]
    }
   ],
   "source": [
    "# Vi kan nå teste modellen på nye data\n",
    "predicted_langs = model.predict([\"konstituˈθjon\", \"ɡrʉnlɔʋ\", \"stjourtnar̥skrauːɪn\", \"perusˌtuslɑki\"])\n",
    "print(\"Mest sansynnlige språk for ordene:\", predicted_langs)"
   ]
  },
  {
   "cell_type": "markdown",
   "metadata": {},
   "source": [
    "(Svarene bør være spansk, norsk, islandsk og finsk)."
   ]
  },
  {
   "attachments": {},
   "cell_type": "markdown",
   "metadata": {},
   "source": [
    "__Oppgave 1.5__: Til slutt kan vi gjennomføre en grundigere evaluering av modellen basert på testsettet. Implementer metoden `evaluate`. Metoden skal beregne og skrive ut de følgende evalueringsmålene:\n",
    "* accuracy (den bør ligge rund 93 % hvis dere har gjort alt riktig.)\n",
    "* precision, recall og $F_1$ for hvert språk\n",
    "* micro- og macro-averaged F1.    \n",
    "    \n",
    "For å beregne disse stallene kan dere bruke metodene fra [`sklearn.metrics`](https://scikit-learn.org/stable/modules/model_evaluation.html#classification-metrics)."
   ]
  },
  {
   "cell_type": "code",
   "execution_count": 70,
   "metadata": {},
   "outputs": [
    {
     "name": "stdout",
     "output_type": "stream",
     "text": [
      "Nøyaktighet: 0.9384\n",
      "\n",
      "Språk: arabisk - presisjon: 0.964, tilbakekall: 0.948, F1: 0.956, % av y_true: 6.60\n",
      "Språk: engelsk - presisjon: 0.960, tilbakekall: 0.984, F1: 0.972, % av y_true: 6.48\n",
      "Språk: farsi - presisjon: 0.940, tilbakekall: 0.949, F1: 0.945, % av y_true: 1.13\n",
      "Språk: finsk - presisjon: 0.992, tilbakekall: 0.995, F1: 0.994, % av y_true: 6.41\n",
      "Språk: fransk - presisjon: 0.962, tilbakekall: 0.919, F1: 0.940, % av y_true: 6.54\n",
      "Språk: islandsk - presisjon: 0.959, tilbakekall: 0.939, F1: 0.949, % av y_true: 6.52\n",
      "Språk: japansk - presisjon: 0.983, tilbakekall: 0.951, F1: 0.967, % av y_true: 6.55\n",
      "Språk: kantonesisk - presisjon: 0.995, tilbakekall: 0.973, F1: 0.984, % av y_true: 6.72\n",
      "Språk: khmer - presisjon: 0.906, tilbakekall: 0.642, F1: 0.751, % av y_true: 0.45\n",
      "Språk: koreansk - presisjon: 0.999, tilbakekall: 0.994, F1: 0.997, % av y_true: 6.53\n",
      "Språk: malayisk - presisjon: 0.760, tilbakekall: 0.754, F1: 0.757, % av y_true: 3.71\n",
      "Språk: mandarin - presisjon: 0.952, tilbakekall: 0.974, F1: 0.963, % av y_true: 5.86\n",
      "Språk: norsk - presisjon: 0.940, tilbakekall: 0.816, F1: 0.873, % av y_true: 1.34\n",
      "Språk: patwa - presisjon: 0.897, tilbakekall: 0.429, F1: 0.580, % av y_true: 0.27\n",
      "Språk: rumensk - presisjon: 0.771, tilbakekall: 0.845, F1: 0.806, % av y_true: 6.46\n",
      "Språk: spansk - presisjon: 0.945, tilbakekall: 0.923, F1: 0.934, % av y_true: 6.38\n",
      "Språk: svensk - presisjon: 0.959, tilbakekall: 0.920, F1: 0.939, % av y_true: 2.64\n",
      "Språk: swahilisk - presisjon: 0.830, tilbakekall: 0.930, F1: 0.877, % av y_true: 6.56\n",
      "Språk: tysk - presisjon: 0.983, tilbakekall: 0.965, F1: 0.974, % av y_true: 6.39\n",
      "Språk: vietnamesisk - presisjon: 0.971, tilbakekall: 0.976, F1: 0.973, % av y_true: 6.47\n",
      "\n",
      "Makro-averaged F1: 0.9065679147424541\n",
      "Mikro-averaged F1: 0.9383936382748129\n"
     ]
    }
   ],
   "source": [
    "from sklearn.metrics import accuracy_score, f1_score, precision_recall_fscore_support\n",
    "\n",
    "def evaluate(self, transcriptions, languages):  \n",
    "    \"\"\"Gitt en rekke med IPA transkripsjoner og en rekke med språknavn, evaluer hvor godt\n",
    "    modellen fungerer ved å beregne:\n",
    "    1) accuracy\n",
    "    2) precision, recall og F1 for hvert språk\n",
    "    3) micro- og macro-averaged F1.\n",
    "    \"\"\"\n",
    "\n",
    "    self._misclassifications = []\n",
    "    \n",
    "    # 1)\n",
    "    predictions = self.predict(transcriptions)\n",
    "    accuracy = accuracy_score(languages, predictions)\n",
    "    print(f'Nøyaktighet: {accuracy:.4f}\\n')\n",
    "\n",
    "    # 2)\n",
    "    # Her spurte jeg ChatGPT, bare så dere veit det. Den ga meg i gjengjeld en veldig grei metode:\n",
    "\n",
    "    \"\"\"\n",
    "    prfs = precision_recall_fscore_support(languages, predictions)\n",
    "    for i in range(len(languages)):\n",
    "        string = f'{languages[i]} - Presisjon: {prfs[0][i]}, Tilbakekall: {prfs[1][i]}, F1: {prfs[2][i]}, % av y_true: {prfs[3][i] / len(predictions) * 100:.1f}'\n",
    "        print(string)\n",
    "    \"\"\"\n",
    "\n",
    "    precision, recall, f1, amount = precision_recall_fscore_support(languages, predictions)\n",
    "    for language, precision, recall, f1, amount in zip(sorted(set(languages)), precision, recall, f1, amount):\n",
    "        print(f'Språk: {language} - presisjon: {precision:.3f}, tilbakekall: {recall:.3f}, F1: {f1:.3f}, % av y_true: {amount / len(languages) * 100:.2f}')\n",
    "    \n",
    "    # 3)\n",
    "    micro_f1 = f1_score(languages, predictions, average='micro')\n",
    "    macro_f1 = f1_score(languages, predictions, average='macro')\n",
    "    print(f'\\nMakro-averaged F1: {macro_f1}\\nMikro-averaged F1: {micro_f1}')\n",
    "\n",
    "    # Legger til en liten statistikk over misklassifikasjoner også, for gøy\n",
    "    misclassifications =  []\n",
    "\n",
    "    for i in range(len(predictions)):\n",
    "        if predictions[i] != languages[i]:\n",
    "            misclassifications.append({\"Transkripsjon\": transcriptions[i], \"Predikert språk\": predictions[i], \"Egentlig språk\": languages[i]})\n",
    "\n",
    "    self._misclassifications = misclassifications\n",
    "    \n",
    "\n",
    "LanguageIdentifier.evaluate = evaluate\n",
    " \n",
    "# Vi kan nå evaluere hvor godt modellen fungerer på testsett\n",
    "model.evaluate(test_data.IPA.values, test_data.språk.values)"
   ]
  },
  {
   "cell_type": "code",
   "execution_count": 71,
   "metadata": {},
   "outputs": [
    {
     "data": {
      "image/png": "[encoded data removed]",
      "text/plain": [
       "<Figure size 2200x2000 with 2 Axes>"
      ]
     },
     "metadata": {},
     "output_type": "display_data"
    }
   ],
   "source": [
    "import matplotlib.pyplot as plt\n",
    "\n",
    "def get_misclassifications(self):\n",
    "\n",
    "    return self._misclassifications\n",
    "\n",
    "LanguageIdentifier.get_misclassifications = get_misclassifications\n",
    "\n",
    "hard_languages = [dict[\"Egentlig språk\"] for dict in model.get_misclassifications()]\n",
    "misguessed_languages = [dict[\"Predikert språk\"] for dict in model.get_misclassifications()]\n",
    "\n",
    "fig, ax = plt.subplots(2, 1, figsize=(22, 20))\n",
    "\n",
    "hist, edges, _ = ax[0].hist(misguessed_languages, bins=len(set(misguessed_languages)), edgecolor='black', color='coral', align='mid')\n",
    "bin_centers = 0.5 * (edges[:-1] + edges[1:])\n",
    "ax[0].set_xticks(bin_centers)\n",
    "ax[0].set_xlabel('Predikert språk', fontweight='bold')\n",
    "ax[0].set_ylabel('Antall ganger gjettet', fontweight='bold')\n",
    "ax[0].set_title('Feilklassifiseringer etter predikert språk', fontweight='bold')\n",
    "\n",
    "hist, edges, _ = ax[1].hist(hard_languages, bins=len(set(hard_languages)), edgecolor='black', color='dodgerblue', align='mid')\n",
    "bin_centers = 0.5 * (edges[:-1] + edges[1:])\n",
    "ax[1].set_xticks(bin_centers)\n",
    "ax[1].set_xlabel('Egentlig språk', fontweight='bold')\n",
    "ax[1].set_ylabel('Antall ganger ikke gjettet', fontweight='bold')\n",
    "ax[1].set_title('Feilklassifiseringer etter egentlig språk', fontweight='bold')\n",
    "plt.show()"
   ]
  },
  {
   "attachments": {},
   "cell_type": "markdown",
   "metadata": {},
   "source": [
    "## Analyse av modellen\n",
    "\n",
    "Hva har modellen egentlig lært? En stor fordel med logistisk regresjon er at modellene er relativt enkle å tolke: Hvis en vekt $w_i$ i modellen har stor positiv verdi betyr det at sannsynnlighet for outputklassen _øker_ sammen med trekket $x_i$.  Likeledes betyr en negativ verdi at sannsynlighet for outputklassen _reduseres_ med større verdier av $x_i$. Og jo større vektet er (positiv eller negativ), jo større er effekten. \n",
    "\n",
    "Vi kan inspisere modellen vår for å finne ut hvilke språklyder som har størst effekt på prediksjonene. I `scikit-learn` er modellvektene lagret i variabelen `coef_` (merk underscoren ved slutten). Siden modellen vår er multiklasse (med 20 unike språk) og inneholder $m \\approx 155$ trekk er vektene i `coef_` en matrise av dimensjon $(20,m)$. \n",
    "\n",
    "__Oppgave 1.6a__: Finn ut hvilket fonetisk symbol som bidrar mest til å øke sannsynnligheten for at et ord er klassifisert som norsk. Sjekk om det gir mening ved å telle hvor ofte symbolet forekommer i et norsk ord vs. ikke-norsk ord.\n",
    "\n",
    "__Svar__: Etter å ha laget en ordbok og en printet oversikt, ser det ut til at ingen av de andre transkripsjonene enn de norske i treningssettet inneholder det fonetiske symbolet 'ʋ' (stemt 'v'). Dette forekommer mellom 160 og 180 ganger, kun i norske transkripsjoner. Dette overrasket meg - jeg har aldri tenkt på stemt 'v' som en særnorsk lyd. Men kanskje dette også har noe å gjøre med spørsmålet jeg stiller i.f.m. neste oppgave:\n",
    "\n",
    "__Oppgave 1.6b__: Finn ut hvilket fonetisk symbol som bidrar mest til å redusere sannsynnligheten for at et ord er klassifisert som norsk.\n",
    "\n",
    "__Svar__: Dette symbolet er ², som angir 'tonem 2' (loven = tonem 1, låven = tonem 2) og som merkelig nok forekommer utelukkende i de svenske transkripsjonene i datasettet (ca. 1100 < x < 1300 ganger). Dette er oppsiktsvekkende, siden denne typen tonemskille er sentralt nettopp i norsk også (jf. eksempelet). Har det noe med samplingen til datasettet å gjøre? "
   ]
  },
  {
   "cell_type": "code",
   "execution_count": 72,
   "metadata": {},
   "outputs": [
    {
     "name": "stdout",
     "output_type": "stream",
     "text": [
      "Trekk som gir minst sjanse for norsk: ²\n",
      "Trekk som gir størst sjanse for norsk: ʋ\n",
      "\n",
      "Antall forekomster av 'ʋ' i ulike språk:\n",
      "norsk: 179\n",
      "\n",
      "Antall forekomster av '²' i ulike språk:\n",
      "svensk: 1189\n"
     ]
    }
   ],
   "source": [
    "# Oppgave 1.6a:\n",
    "def get_weights(self):\n",
    "\n",
    "    return self._model.coef_\n",
    "\n",
    "LanguageIdentifier.get_weights = get_weights\n",
    "\n",
    "def get_symbols(self):\n",
    "\n",
    "    return self._symbols\n",
    "\n",
    "LanguageIdentifier.get_symbols = get_symbols\n",
    "\n",
    "def get_class_labels(self):\n",
    "\n",
    "    return self._class_label_dict\n",
    "\n",
    "LanguageIdentifier.get_class_labels = get_class_labels\n",
    "\n",
    "weights = model.get_weights()\n",
    "index_no = model.get_class_labels()[\"norsk\"]\n",
    "weights_no = weights[index_no].tolist()\n",
    "\n",
    "weight_min = min(weights_no)\n",
    "worst_feature = model.get_symbols()[weights_no.index(weight_min)]\n",
    "print(\"Trekk som gir minst sjanse for norsk:\", worst_feature)\n",
    "\n",
    "weight_max = max(weights_no)\n",
    "best_feature = model.get_symbols()[weights_no.index(weight_max)]\n",
    "print(\"Trekk som gir størst sjanse for norsk:\", best_feature)\n",
    "\n",
    "best_feature_count = {language: 0 for language in languages}\n",
    "worst_feature_count = {language: 0 for language in languages}\n",
    "\n",
    "tr_list = test_data.IPA.tolist()\n",
    "lan_list = test_data.språk.tolist()\n",
    "\n",
    "b_transcriptions = []\n",
    "w_transcriptions = []\n",
    "\n",
    "for transcription in tr_list:\n",
    "    \n",
    "    if best_feature in transcription:\n",
    "        b_transcriptions.append(transcription)\n",
    "        language = lan_list[tr_list.index(transcription)]\n",
    "        best_feature_count[language] += 1\n",
    "        \n",
    "    elif worst_feature in transcription:\n",
    "        w_transcriptions.append(transcription)\n",
    "        language = lan_list[tr_list.index(transcription)]\n",
    "        worst_feature_count[language] += 1\n",
    "\n",
    "print(f\"\\nAntall forekomster av '{best_feature}' i ulike språk:\" )\n",
    "for key, value in best_feature_count.items():\n",
    "    if value != 0:\n",
    "        print(f'{key}: {value}')\n",
    "\n",
    "print(f\"\\nAntall forekomster av '{worst_feature}' i ulike språk:\" )\n",
    "for key, value in worst_feature_count.items():\n",
    "    if value != 0:\n",
    "        print(f'{key}: {value}')"
   ]
  },
  {
   "attachments": {},
   "cell_type": "markdown",
   "metadata": {},
   "source": [
    "# Del 2: sekvensmodellering\n",
    "\n",
    "Vi skal nå jobbe på en viktig anvendelse av sekvensmodeller, nemlig å gjenkjenne navngitte entiteter (_Named Entity Recognition_ eller NER på engelsk). For å gjøre det så enkelt som mulig vil vi bruke en _Hidden Markov Model_ som sekvensmodell. Hvert ord skal assosieres med en bestemte klasse, og vi skal ta i bruk såkalt BIO-annotering (også kalt IOB i boken til Jurafsky og Martin) for å spesifisere hvilke som ord hører til en navngitt entitet. \n",
    "\n",
    "_NB_: I praksis er ikke HMM den mest hensiktsmessige sekvensmodellen for å gjenkjenne navngitte enheter. Andre modeller slik som _transformers_ vil være bedre egnet til denne oppgaven, med disse modellene er betydelige mer kompliserte å trene. \n",
    "\n",
    "\n",
    "### Data \n",
    "Vi skal trene modellen med dataene i `norne_train.txt`. Filen inneholder tokeniserte setninger (en per linje) hvor de navngitte entitetene er markert med XML-tags, som f.eks:\n",
    "\n",
    "```xml\n",
    "De første 43 minuttene hadde <ORG>Rosenborg</ORG> all makt og \n",
    "tilnærmet full kontroll på <LOC>Fredrikstad Stadion</LOC> .\n",
    "```\n",
    "I eksempelet over har vi 2 navngitte enheter, _Rosenborg_ (en organisasjon) og _Fredrikstad Stadion_ (et sted).\n",
    "\n",
    "Vi har allerede implementert en funksjon `preprocess` som tar en tekst som input (som f.eks. setningene i trening- eller testsett) og ekstraherer lister over setninger og navngitte entiteter i disse setningene:"
   ]
  },
  {
   "cell_type": "code",
   "execution_count": 73,
   "metadata": {},
   "outputs": [
    {
     "data": {
      "text/plain": [
       "([['De',\n",
       "   'første',\n",
       "   '43',\n",
       "   'minuttene',\n",
       "   'hadde',\n",
       "   'Rosenborg',\n",
       "   'all',\n",
       "   'makt',\n",
       "   'og',\n",
       "   'tilnærmet',\n",
       "   'full',\n",
       "   'kontroll',\n",
       "   'på',\n",
       "   'Fredrikstad',\n",
       "   'Stadion',\n",
       "   '.']],\n",
       " [[(5, 6, 'ORG'), (13, 15, 'LOC')]])"
      ]
     },
     "execution_count": 73,
     "metadata": {},
     "output_type": "execute_result"
    }
   ],
   "source": [
    "import oblig1b_utils\n",
    "oblig1b_utils.preprocess(\"De første 43 minuttene hadde <ORG>Rosenborg</ORG> all makt og \" +\n",
    "                         \"tilnærmet full kontroll på <LOC>Fredrikstad Stadion</LOC> .\")"
   ]
  },
  {
   "cell_type": "markdown",
   "metadata": {},
   "source": [
    "De navngitte entitetene er spesifisert som tupler $(i, j, tag)$ hvor $i$ er indeksen for starten av entiteten, $j$ er indeksen for slutten, og $tag$ er entitetstypen, som f.eks. ORG eller LOC. Indekstallene er på ordnivå:"
   ]
  },
  {
   "cell_type": "markdown",
   "metadata": {},
   "source": [
    "### Klassen\n",
    "\n",
    "Her er skjelettet for `NamedEntityRecogniser`-klassen  som skal implementeres:"
   ]
  },
  {
   "cell_type": "code",
   "execution_count": 74,
   "metadata": {},
   "outputs": [],
   "source": [
    "import oblig1b_utils\n",
    "\n",
    "class NamedEntityRecogniser:\n",
    "    \"\"\"Gjenkjenning av navngitte enheter ved bruk av HMM\"\"\"\n",
    "    \n",
    "    def __init__(self):\n",
    "        \"\"\"Intialiserer alle variablene som er nødvendig for å representere og \n",
    "        estimere  sekvensmodellen (en Hidden Markov Model) som brukes til å \n",
    "        gjenkjenne de navngitte enhetene\"\"\"\n",
    "\n",
    "        # hvor mange ganger en label (f.eks. B-ORG) forekommer i treningsettet\n",
    "        self._label_counts = {}\n",
    "\n",
    "        # antall ganger hvert token forekommer\n",
    "        self._token_counts = {}\n",
    "        \n",
    "        # alle labellene som forekommer i treningsettet - jeg endra instansvariablene for unike forekomster til å bli initiert til tomme lister.\n",
    "        # Av en eller annen grunn funka ikke len().\n",
    "        self._labels = []\n",
    "\n",
    "        # alle token som forekommer i treningsettet\n",
    "        self._vocab = []\n",
    "\n",
    "        # hvor mange overgang fra label_1 til label2 forekommer i treningsettet\n",
    "        self._transition_counts = {}\n",
    "        \n",
    "        # hvor mange \"utslipp\" fra label til token forekommer i treningsettet\n",
    "        # (Merk at vi legger et spesielt symbol for ord som aldri forekommer\n",
    "        # i treningsettet, men kan forekomme i testsettet)\n",
    "        self._emission_counts = {(\"O\", \"<UNK>\"):1}\n",
    "                \n",
    "        # Sansynnlighet P(label_2 | label_1)\n",
    "        self._transition_probs = {}\n",
    "        \n",
    "        # Sansynnlighet P(token | label)\n",
    "        self._emission_probs = {}\n",
    "    \n",
    "    \n",
    "    def fit(self, tagged_text):\n",
    "        \"\"\"Estimerer tallene og sansynnlighetene for HMM, basert på (tokenisert)\n",
    "        tekst hvor navngitte enhetene er markert med XML tags (se norne.txt)\"\"\"\n",
    "        \n",
    "        # Ekstrahere setninger og navngitte enheter markert i hver setning\n",
    "        sentences, all_spans = oblig1b_utils.preprocess(tagged_text)\n",
    "                \n",
    "        for sentence, spans in zip(sentences, all_spans):\n",
    "     \n",
    "            # Ekstrahere labelsekvenser, med BIO marking\n",
    "            label_sequence = get_BIO_sequence(spans, len(sentence))\n",
    "                                              \n",
    "            # Oppdatere tallene \n",
    "            self._add_counts(sentence, label_sequence)\n",
    "            \n",
    "        # Beregne sansynnlighetene (transition og emission) ut fra tallene\n",
    "        self._fill_probs()\n",
    "                   \n",
    "        \n",
    "    def _add_counts(self, sentence, label_sequence):\n",
    "        \"\"\"Oppdaterer variablene self.vocab, self.labels, self.label_counts, \n",
    "        self.transition_counts og  self.emission_counts, basert på setningen og \n",
    "        sekvenslabellen assosiert med dem. \n",
    "        Merk at setningen og label_sequence har samme lengde.\"\"\"\n",
    "        \n",
    "        \n",
    "    def _fill_probs(self, alpha_smoothing=1E-6):\n",
    "        \"\"\"Beregne sannsynlihetsfordelinger self.transition_probs og\n",
    "        self.emission_probs basert på tallene som er samlet inn i \n",
    "        self.label_counts, self.transition_counts og self.emission_counts.\n",
    "        \n",
    "        Når det gjeler self.emission_probs bør vi legge Laplace smoothing, med en\n",
    "        verdi for alpha som er alpha_smoothing.\"\"\"\n",
    "        \n",
    "        raise NotImplementedError()\n",
    "            \n",
    "    \n",
    "    def _beam_search(self, sentence):\n",
    "        \"\"\"Kjører beam-search på setningen (liste over tokens) og\n",
    "        returnerer to outputs: \n",
    "        1) en labelsekvens (som har samme lengde som setningen)\n",
    "        2) sansynnlighet for hele sekvensen \"\"\"\n",
    "\n",
    "        raise NotImplementedError()\n",
    "\n",
    "                \n",
    "    def label(self, text):\n",
    "        \"\"\"Gitt en tokenisert tekst, finner ut navngitte enheter og markere disse\n",
    "        med XML tags. \"\"\"\n",
    "        sentences, _ = oblig1b_utils.preprocess(text)\n",
    "        spans = []\n",
    "        for sentence in sentences:\n",
    "            sentence = [token if token in self._vocab else \"<UNK>\" for token in sentence]\n",
    "            label_sequence, _ = self._beam_search(sentence)\n",
    "            spans.append(oblig1b_utils.get_spans(label_sequence))\n",
    "        \n",
    "        return oblig1b_utils.postprocess(sentences, spans)"
   ]
  },
  {
   "attachments": {},
   "cell_type": "markdown",
   "metadata": {},
   "source": [
    "### BIO-markering\n",
    "\n",
    "\n",
    "For å trene en HMM må hvert ord kobles til en merkelapp (_label_). En vanlig måte å gjøre dette er å bruke en såkalt BIO-markering, hvor hvert ord markeres som:\n",
    "* 'O' (hvis ordet ikke tilhører en navngitt entitet)\n",
    "* 'B-X' (hvis ordet er det første ordet i en navngitt entitet av type 'X')\n",
    "* 'I-X' (hvis ordet tilhører en entitet av type 'X', men ikke er det første ordet)\n",
    "\n",
    "__Oppgave 2.1__: Implementer funksjonen _get_BIO_sequence_ som tar som input en liste med ``text spans'' og setningslengden og gir tilbake en rekke (av samme lengde som setningen) med BIO-markeringer."
   ]
  },
  {
   "cell_type": "code",
   "execution_count": 75,
   "metadata": {},
   "outputs": [],
   "source": [
    "    \n",
    "def get_BIO_sequence(spans, sentence_length):\n",
    "    \"\"\"Gitt en liste over \"spans\", representert som tuples (start, end, tag),\n",
    "    og en setningslengde, produserer en sekvens med BIO (også kalt IOB) labeller\n",
    "    for setningen. \n",
    "    Eksempel: hvis spans=[(1,3,'ORG')] og sentence_length=6 bør resultatet være\n",
    "    ['O', 'B-ORG', 'I-ORG', 'O', 'O', 'O']\"\"\"\n",
    "    \n",
    "    # Implementer metoden her!\n",
    "    if not isinstance(spans, list):\n",
    "        raise TypeError(f\"Parameteren 'spans' må være en liste. Fikk {type(spans)}\")\n",
    "        \n",
    "    for i in range(len(spans)):\n",
    "        assert len(spans[i]) == 3, f\"Lista 'spans' må inneholde tupler av lengde 3. Fant: {spans[i]}\"\n",
    "\n",
    "    sequence = ['O' for i in range(sentence_length)]\n",
    "    if len(spans) != 0:\n",
    "        for info in spans:\n",
    "            \n",
    "            start = info[0]\n",
    "            end = info[1]\n",
    "            label = info[2]\n",
    "    \n",
    "            sequence[start] = \"B-\" + label\n",
    "            if end > start:\n",
    "                for i in range(start+1, end):\n",
    "                    sequence[i] = \"I-\" + label\n",
    "                \n",
    "    return sequence\n",
    "    "
   ]
  },
  {
   "cell_type": "markdown",
   "metadata": {},
   "source": [
    "\n",
    "### Telling\n",
    "\n",
    "Som vi så i forelesningen er Hidden Markov Models definert med en vokabular (som tilsvarer ``observasjonene''), et sett mulig merkelapp (de skjulte tilstandene), og to sannsynlighetsfordelinger:\n",
    "* Den første fordelingen er kalt transisjonsmodell og definert som $P(label_t | label_{t-1})$. Transisjonsmodellen forteller oss hvor sannsynlig det er at $label_{t-1}$ (assosiert med ord $w_{t-1}$) følges av $label_t$ (assosiert med ord $w_t$). \n",
    "* Den andre fordelingen er emisjonsmodellen, definert som $P(w_t | label_t)$. Emisjonsmodellen forteller oss hvor sannsynlig det er å observere ordet $w_t$ hvis merkelappen for dette ordet er $label_t$.\n",
    "\n",
    "For å estimere disse to sannsynlighetsfordelinger må vi telle:\n",
    "* Alle ordene som forekommer i treningssettet\n",
    "* Alle BIO-labels som forekommer i treningssettet\n",
    "* Antall ganger hver BIO-label forekommer i treningssettet\n",
    "* Antall ganger to BIO-labels følger hverandre i treningssettet\n",
    "* Antall ganger et ord er observert med en BIO-label i treningssettet\n",
    "\n",
    "__Oppgave 2.2__: Implementer metoden `_add_counts` som oppdaterer variablene som inneholder disse tallene.  "
   ]
  },
  {
   "cell_type": "code",
   "execution_count": 76,
   "metadata": {},
   "outputs": [],
   "source": [
    "def _add_counts(self, tokenised_sentence, label_sequence):\n",
    "    \"\"\"\n",
    "    Oppdaterer variablene self.vocab, self.labels, self.label_counts, \n",
    "    self.transition_counts og  self.emission_counts, basert på setningen og \n",
    "    sekvenslabellene assosiert med dem. \n",
    "    Merk at setningen og label_sequence må ha samme lengde.\n",
    "\n",
    "    Siden metoden oblig1b_utils.preprocess(tekst_med_entitetsmarkører) returnerer setningen som en liste med tokener, kan vi bruke dette direkte\n",
    "    inn i denne metoden. Jeg substituerte derfor parameternavnet 'sentence' med'tokenised sentence'.\n",
    "    \"\"\"\n",
    "        \n",
    "    # Implementer metoden her!\n",
    "    if len(tokenised_sentence) != len(label_sequence):\n",
    "       raise ValueError(f\"Listene tokenised_sentence og label_sequence må være av samme lengde. Fikk len(tokenised_sentence) == {len(tokenised_sentence)}\"\n",
    "                           + f\"og len(label_sequence == {len(label_sequence)})\")\n",
    "\n",
    "    if '<s>' not in self._label_counts:\n",
    "        self._label_counts['<s>'] = 1\n",
    "    else:\n",
    "        self._label_counts['<s>'] += 1\n",
    "    \n",
    "    for token in tokenised_sentence:\n",
    "        # Tokenet legges til i self._tokens dersom det ikke er der ennå. Slik ender vi opp med ei liste over unike token.\n",
    "        if token not in self._vocab:\n",
    "            self._token_counts[token] = 1\n",
    "            self._vocab.append(token)\n",
    "        else:\n",
    "            self._token_counts[token] += 1\n",
    "    \n",
    "    for i in range(len(label_sequence)):\n",
    "        label = label_sequence[i]\n",
    "        # Teller forekomst av hver etikett og fører inn i self._label_counts. Bruker samme logikk som med self._vocab på self._labels\n",
    "        if label not in self._labels:\n",
    "            self._label_counts[label] = 1\n",
    "            self._labels.append(label)\n",
    "        else:\n",
    "            self._label_counts[label] += 1\n",
    "\n",
    "        # Henter indeksene til gjeldende etikett og forrige, så man kan bruke disse til å lage tupler til instansvariablene\n",
    "        prev_index = i - 1\n",
    "        prev_label = label_sequence[prev_index]\n",
    "\n",
    "        # Legger til i emission_counts:\n",
    "        emission_tuple = (label_sequence[i], tokenised_sentence[i])\n",
    "        if emission_tuple not in self._emission_counts:\n",
    "            self._emission_counts[emission_tuple] = 1\n",
    "        else:\n",
    "            self._emission_counts[emission_tuple] += 1\n",
    "\n",
    "        # Transition counts:\n",
    "        if i == 0:\n",
    "            transition_tuple = ('<s>', label)\n",
    "            if transition_tuple not in self._transition_counts:\n",
    "                self._transition_counts[transition_tuple] = 1\n",
    "            else:\n",
    "                self._transition_counts[transition_tuple] += 1\n",
    "\n",
    "        else:\n",
    "            transition_tuple = (prev_label, label)\n",
    "            if transition_tuple not in self._transition_counts:\n",
    "                self._transition_counts[transition_tuple] = 1\n",
    "            else:\n",
    "                self._transition_counts[transition_tuple] += 1        \n",
    "            \n",
    "NamedEntityRecogniser._add_counts = _add_counts"
   ]
  },
  {
   "attachments": {},
   "cell_type": "markdown",
   "metadata": {},
   "source": [
    "### Sannsynligheterfordelinger\n",
    "\n",
    "Med hjelp av disse tallene kan vi nå estimere transisjonsmodellen og emisjonsmodellen. For emisjonsmodellen bør dere legge til _Laplace smoothing_ for å gjøre modellen mer robust, da treningssettet er relativt lite. La oss si at $C(label)$ er antall ganger BIO-merkelappen $label$ ble observert, og $C(label, token)$ antall ganger ordet $token$ ble observert sammen med $label$.  Ved hjelp av Laplace smoothing definerer vi sannsynligheten $P(token | label)$ slik:\n",
    "\n",
    "$$\n",
    "P(token | label) = \\frac{C(label, token) + \\alpha}{C(label) + \\alpha V}\n",
    "$$\n",
    "\n",
    "hvor $V$ er størrelsen på vokabularet. \n",
    "\n",
    "__Oppgave 2.3__: Implementer metoden `_fill_probs` som beregner transisjonsmodellen og emisjonsmodellen.  "
   ]
  },
  {
   "cell_type": "code",
   "execution_count": 77,
   "metadata": {},
   "outputs": [],
   "source": [
    "def _fill_probs(self, alpha_smoothing=1E-6):\n",
    "    \"\"\"Beregne sannsynlihetsfordelinger self.transition_probs og\n",
    "    self.emission_probs basert på tallene som er samlet inn i \n",
    "    self.label_counts, self.transition_counts og self.emission_counts.\n",
    "        \n",
    "    Når det gjeler self.emission_probs bør vi legge Laplace smoothing, med en\n",
    "    verdi for alpha som er alpha_smoothing.\"\"\"\n",
    "\n",
    "    # Sannsynlighet P(label_2 | label_1)\n",
    "    self._transition_probs = {}\n",
    "    \n",
    "    # Sannsynlighet P(token | label)\n",
    "    self._emission_probs = {}\n",
    "    # Implementer metoden her!\n",
    "    for label1 in set(self._label_counts):\n",
    "        \n",
    "        # Først transisjonssannsynlighetene:\n",
    "        for label2 in set(self._label_counts):\n",
    "            if (label1, label2) not in self._transition_probs:\n",
    "                try:\n",
    "                    prob = self._transition_counts[(label1, label2)] / self._label_counts[label1]\n",
    "                    self._transition_probs[(label1, label2)] = prob\n",
    "                except KeyError: # Alle KeyErrors sørger \n",
    "                    pass\n",
    "                    \n",
    "        # Emisjonssannsynlighet (med 'Laplace smoothing'):\n",
    "        for token in set(self._token_counts):\n",
    "            if (label1, token) not in self._emission_probs:\n",
    "                try:\n",
    "                    prob = (self._emission_counts[(label1, token)] + alpha_smoothing) / (self._label_counts[label1] + alpha_smoothing * len(self._vocab))\n",
    "                    self._emission_probs[(label1, token)] = prob\n",
    "                except KeyError:\n",
    "                    pass\n",
    "                \n",
    "NamedEntityRecogniser._fill_probs = _fill_probs            "
   ]
  },
  {
   "cell_type": "markdown",
   "metadata": {},
   "source": [
    "Og vi kan nå trene modellen:"
   ]
  },
  {
   "cell_type": "code",
   "execution_count": 78,
   "metadata": {},
   "outputs": [],
   "source": [
    "# Creating and training the model\n",
    "with open(\"norne_train.txt\", 'r', encoding='utf-8') as fd:\n",
    "    model = NamedEntityRecogniser()\n",
    "    training_texts = fd.read()\n",
    "    model.fit(training_texts)"
   ]
  },
  {
   "attachments": {},
   "cell_type": "markdown",
   "metadata": {},
   "source": [
    "\n",
    "### Dekoding med beam search\n",
    "\n",
    "Til slutt skal vi implementere metoden `_beam_search` som skal finne den mest sannsynlige label-sekvensen for en setning ved hjelp av beam-search-algoritmen. \n",
    "\n",
    "Vi har sett hvordan beam search fungerer i forelesningen. Kort fortalt består et _beam_ av en mengde _hypoteser_, hvor en hypotese representerer her en mulig sekvens av BIO-labeller for setningen. Vi bygger opp disse hypotesene ord etter ord, inntil alle ordene er behandlet. I beam-search begrenser vi antall hypoteser som kan lagres etter hvert steg (=_beam width_) for å unngå en kombinatorisk eksplosjon.\n",
    "\n",
    "__Oppgave 2.4__: Implementer metoden `_beam_search`. For å gjøre det litt lettere er metoden allerede delvis implementert."
   ]
  },
  {
   "cell_type": "code",
   "execution_count": 87,
   "metadata": {},
   "outputs": [],
   "source": [
    "def _beam_search(self, sentence, beam_width=3):\n",
    "    \n",
    "    \"\"\"Kjører beam search på setningen (liste over tokens), og\n",
    "    returnerer to outputs: \n",
    "    1) en labelsekvens (som har samme lengde som setningen)\n",
    "    2) sansynnlighet for hele sekvensen \"\"\"\n",
    "\n",
    "    # Vi starter med en beam som består av én tom hypotese\n",
    "    # Hver hypotese i beam består av to elementer:\n",
    "    # -'labels' er en liste over BIO-labels (en label per ord i setningen)\n",
    "    # -'prob' er sannsynligheten for denne labelsekvensen\n",
    "    beam = [{\"labels\":[], \"prob\":1.0}]\n",
    "    \n",
    "    for token in sentence:\n",
    "        \n",
    "        # Lista 'best_matches' fylles med beam_width antall hypoteser og erstatter 'beam' etter hver iterasjon\n",
    "        best_matches = []\n",
    "        \n",
    "        for dict in beam:\n",
    "            if len(dict[\"labels\"]) == 0:\n",
    "                prev_label = '<s>'\n",
    "            else:\n",
    "                prev_label = dict[\"labels\"][-1]\n",
    "\n",
    "            # Lager ei liste med tupler (etikett, sannsynlighet) og sorterer den til slutt etter sannsynligheten (lambda x: x[1])\n",
    "            probs = []\n",
    "            for label in self._labels:\n",
    "                try:\n",
    "                    prob = (label, self._transition_probs[(prev_label, label)] * dict[\"prob\"] * self._emission_probs[(label, token)])\n",
    "                    probs.append(prob)\n",
    "                except KeyError:\n",
    "                    prob = 0\n",
    "                    probs.append((label, prob))\n",
    "                    pass\n",
    "            probs = sorted(probs, key=lambda x: x[1], reverse=True)\n",
    "\n",
    "            # Denne if-testen sørger for at best_matches fylles med 3 hypoteser uansett om det er første eller n-te iterasjon\n",
    "            if len(beam) == beam_width:\n",
    "                new_sequence = dict[\"labels\"]\n",
    "                new_sequence.append(probs[0][0])\n",
    "                best_matches.append({\"labels\": new_sequence, \"prob\": probs[0][1]})\n",
    "                \n",
    "            else:\n",
    "                for i in range(beam_width):\n",
    "                    new_sequence = [probs[i][0]]\n",
    "                    best_matches.append({\"labels\": new_sequence, \"prob\": probs[i][1]})\n",
    "        beam = best_matches\n",
    "        \n",
    "    # Vi velger hypotesen med høyest sannsynlighet\n",
    "    best_hypothesis = sorted(beam, key=lambda x : x[\"prob\"])[-1]\n",
    "\n",
    "    # Og returnerer labelsekvensen og dens sannsynlighet\n",
    "    return best_hypothesis[\"labels\"], best_hypothesis[\"prob\"]\n",
    "\n",
    "NamedEntityRecogniser._beam_search = _beam_search            "
   ]
  },
  {
   "cell_type": "code",
   "execution_count": 88,
   "metadata": {},
   "outputs": [
    {
     "data": {
      "text/plain": [
       "(['B-PER', 'I-PER', 'I-PER', 'O', 'O', 'O', 'B-GPE'], 4.1146522138521545e-20)"
      ]
     },
     "execution_count": 88,
     "metadata": {},
     "output_type": "execute_result"
    }
   ],
   "source": [
    "model._beam_search(['Kjell', 'Magne', 'Bondevik', 'var', 'statsminister', 'i', 'Norge'])"
   ]
  },
  {
   "attachments": {},
   "cell_type": "markdown",
   "metadata": {},
   "source": [
    "Når dere har implementert modellen ferdig kan dere teste ut hvordan den fungerer ved å kalle metoden `label`:"
   ]
  },
  {
   "cell_type": "code",
   "execution_count": 89,
   "metadata": {},
   "outputs": [
    {
     "data": {
      "text/plain": [
       "'<PER>Kjell Magne Bondevik</PER> var statsminister i <GPE>Norge</GPE> .'"
      ]
     },
     "execution_count": 89,
     "metadata": {},
     "output_type": "execute_result"
    }
   ],
   "source": [
    "# Applying the model to a sample sentence\n",
    "model.label(\"Kjell Magne Bondevik var statsminister i Norge .\")\n",
    "# Forventet svar: '<PER>Kjell Magne Bondevik</PER> var statsminister i <GPE>Norge</GPE> .'"
   ]
  },
  {
   "attachments": {},
   "cell_type": "markdown",
   "metadata": {},
   "source": [
    "### Valgfritt spørsmål (for de modigste)\n",
    " \n",
    "Det er ofte en dårlig idé å gange mange små sannsynligheter, da vi kan havne i numerisk _underflow_. En vanlig løsning er å benytte log-sannsynligheter som kan summeres i stedet for å multipliseres, slik som forklart [her](http://www.cs.columbia.edu/~mcollins/cs4705-fall2018/notes-on-logs.pdf).\n",
    "\n",
    "__Oppgave 2.5__: Prøv å implementere beam search algoritmen med log-sannsynligheter.  "
   ]
  },
  {
   "cell_type": "code",
   "execution_count": 92,
   "metadata": {},
   "outputs": [],
   "source": [
    "import math\n",
    "\n",
    "def _beam_search(self, sentence, beam_width=3):\n",
    "\n",
    "    # -'prob' er sannsynligheten for denne labelsekvensen (default denne gangen er log10(1) = 0)\n",
    "    beam = [{\"labels\":[], \"prob\":0.0}]\n",
    "    \n",
    "    for token in sentence:\n",
    "        \n",
    "        best_matches = []\n",
    "        \n",
    "        for dict in beam:\n",
    "            if len(dict[\"labels\"]) == 0:\n",
    "                prev_label = '<s>'\n",
    "            else:\n",
    "                prev_label = dict[\"labels\"][-1]\n",
    "\n",
    "            probs = []\n",
    "            for label in self._labels:\n",
    "                try:\n",
    "                    # Her er forskjell nr. 2 fra forrige ._beam_search-metode - math.log10() på begge sannsynlighetsberegningene og addisjon istedenfor multiplikasjon:\n",
    "                    prob = (label, math.log10(self._transition_probs[(prev_label, label)]) + dict[\"prob\"] + math.log10(self._emission_probs[(label, token)]))\n",
    "                    probs.append(prob)\n",
    "                except KeyError:\n",
    "                    pass\n",
    "            probs = sorted(probs, key=lambda x: x[1], reverse=True)\n",
    "\n",
    "            if len(beam) == beam_width:\n",
    "                new_sequence = dict[\"labels\"]\n",
    "                new_sequence.append(probs[0][0])\n",
    "                best_matches.append({\"labels\": new_sequence, \"prob\": probs[0][1]})\n",
    "                \n",
    "            else:\n",
    "                for i in range(beam_width):\n",
    "                    index = 0\n",
    "                    \n",
    "                    \"\"\"Må tweake litt for å deale med at log10(0) er udefinert (man får mange sannsynligheter = 0). Gjør nå at lista probs ikke \n",
    "                    utvides med prob = 0 for hver KeyError, men at sannsynligheten rett og slett bare ikke legges til i lista. Dette må igjen \n",
    "                    omgås med en try- / except-test for å unngå IndexError, fordi lista sannsynligvis vil inneholde færre enn 3 elementer: \"\"\"\n",
    "                    \n",
    "                    try:\n",
    "                        new_sequence = [probs[index][0]]\n",
    "                        best_matches.append({\"labels\": new_sequence, \"prob\": probs[index][1]})\n",
    "                        index += 1\n",
    "                    except IndexError:\n",
    "                        index = index - 1\n",
    "                        new_sequence = [probs[index][0]]\n",
    "                        best_matches.append({\"labels\": new_sequence, \"prob\": probs[index][1]})\n",
    "                        \n",
    "        beam = best_matches\n",
    "        \n",
    "    # Vi velger hypotesen med høyest sannsynlighet - som denne gangen bare er den høyeste 10-logaritmen:\n",
    "    best_hypothesis = sorted(beam, key=lambda x : x[\"prob\"])[-1]\n",
    "\n",
    "    # Og returnerer labelsekvensen og dens sannsynlighet\n",
    "    return best_hypothesis[\"labels\"], best_hypothesis[\"prob\"]\n",
    "\n",
    "NamedEntityRecogniser._beam_search = _beam_search"
   ]
  },
  {
   "cell_type": "code",
   "execution_count": 93,
   "metadata": {},
   "outputs": [
    {
     "data": {
      "text/plain": [
       "(['B-PER', 'I-PER', 'I-PER', 'O', 'O', 'O', 'B-GPE'], -19.38566686713167)"
      ]
     },
     "execution_count": 93,
     "metadata": {},
     "output_type": "execute_result"
    }
   ],
   "source": [
    "model._beam_search(['Kjell', 'Magne', 'Bondevik', 'var', 'statsminister', 'i', 'Norge'])"
   ]
  },
  {
   "cell_type": "code",
   "execution_count": 94,
   "metadata": {},
   "outputs": [
    {
     "data": {
      "text/plain": [
       "'<PER>Kjell Magne Bondevik</PER> var statsminister i <GPE>Norge</GPE> .'"
      ]
     },
     "execution_count": 94,
     "metadata": {},
     "output_type": "execute_result"
    }
   ],
   "source": [
    "# Applying the model to a sample sentence\n",
    "model.label(\"Kjell Magne Bondevik var statsminister i Norge .\")\n",
    "# Forventet svar: '<PER>Kjell Magne Bondevik</PER> var statsminister i <GPE>Norge</GPE> .'"
   ]
  }
 ],
 "metadata": {
  "kernelspec": {
   "display_name": "Python 3 (ipykernel)",
   "language": "python",
   "name": "python3"
  },
  "language_info": {
   "codemirror_mode": {
    "name": "ipython",
    "version": 3
   },
   "file_extension": ".py",
   "mimetype": "text/x-python",
   "name": "python",
   "nbconvert_exporter": "python",
   "pygments_lexer": "ipython3",
   "version": "3.9.18"
  },
  "vscode": {
   "interpreter": {
    "hash": "3529d1d89cb4c8d13e402e4117b8dc865480f261d07f0716e8c60a591b54d3ff"
   }
  }
 },
 "nbformat": 4,
 "nbformat_minor": 4
}
